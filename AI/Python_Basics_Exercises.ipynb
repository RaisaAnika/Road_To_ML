{
  "nbformat": 4,
  "nbformat_minor": 0,
  "metadata": {
    "colab": {
      "name": "Python Basics_Exercises.ipynb",
      "provenance": []
    },
    "kernelspec": {
      "name": "python3",
      "display_name": "Python 3"
    },
    "language_info": {
      "name": "python"
    }
  },
  "cells": [
    {
      "cell_type": "markdown",
      "metadata": {
        "id": "dWbG-1Xs43Pl"
      },
      "source": [
        "## Python loops, lists and Conditions"
      ]
    },
    {
      "cell_type": "markdown",
      "metadata": {
        "id": "ioZ5JlFZqz0H"
      },
      "source": [
        "1.We are having 3 list like this\n",
        "\n",
        "Colors = [“Yellow”,”Green”,”White”,”Black”]\n",
        "\n",
        "Fruits=[“Apple”,”Papaya”,”Mango”,”Orange”]\n",
        "\n",
        "Animals=[“Tiger”,”Lion”,”Deer”,”Zebra”]\n",
        "\n",
        "i. Write a program that asks user to enter a Color/Fruit/Animal name and it should tell which category belongs to , like its is a fruit or color or Animal"
      ]
    },
    {
      "cell_type": "code",
      "metadata": {
        "colab": {
          "base_uri": "https://localhost:8080/"
        },
        "id": "K34D_ouhrGSh",
        "outputId": "00cfe26e-5bcb-4ee2-d149-3fb01d497603"
      },
      "source": [
        "\n",
        "Colors = ['Yellow', 'Green', 'White', 'Black']\n",
        "Fruits = ['Apple', 'Papaya', 'Mango', 'Orange']\n",
        "Animals = ['Tiger', 'Lion', 'Deer', 'Zebra']\n",
        "name = input('Enter the name of color/fruit/animal name: ')\n",
        "\n",
        "if name in Colors:\n",
        "  Category = 'Color'\n",
        "elif name in Fruits:\n",
        "  Category = 'Fruit'\n",
        "elif name in Animals:\n",
        "  Category = 'Animal'\n",
        "else:\n",
        "  Category = 'null'\n",
        "  \n",
        "print('Category: ', Category)"
      ],
      "execution_count": 1,
      "outputs": [
        {
          "output_type": "stream",
          "text": [
            "Enter the name of color/fruit/animal name: Papaya\n",
            "Category:  Fruit\n"
          ],
          "name": "stdout"
        }
      ]
    },
    {
      "cell_type": "markdown",
      "metadata": {
        "id": "MjbUeK2Xrhsg"
      },
      "source": [
        "2. Write a program that asks user to enter two items and it tells you if they both are in same category or not. For example if I enter yellow and Black, it will print \"Both are colors\" but if I enter yellow and Tiger it should print \"They don't belong to same category\""
      ]
    },
    {
      "cell_type": "code",
      "metadata": {
        "colab": {
          "base_uri": "https://localhost:8080/"
        },
        "id": "61O3DFZ5rI4a",
        "outputId": "4e3137b0-356b-4f20-f477-f08acd8d89de"
      },
      "source": [
        "name_1=input('enter 1st name : ')\n",
        "name_2=input('enter 2nd name : ')\n",
        "\n",
        "if name_1 in Colors and name_2 in Colors:\n",
        " category='both are Colors'\n",
        "elif name_1 in Fruits and name_2 in Fruits:\n",
        " category='both are Fruits'\n",
        "elif name_1 in Animals and name_2 in Animals:\n",
        " category ='both are Animals'\n",
        "else:\n",
        " category='They donot belong to same category'\n",
        " \n",
        "print('category:',category)\n"
      ],
      "execution_count": 3,
      "outputs": [
        {
          "output_type": "stream",
          "text": [
            "enter 1st name : Zebra\n",
            "enter 2nd name : Apple\n",
            "category: They donot belong to same category\n"
          ],
          "name": "stdout"
        }
      ]
    },
    {
      "cell_type": "markdown",
      "metadata": {
        "id": "akKPeXRTr5Po"
      },
      "source": [
        "\n",
        "3. Write a python program that can tell you if your grade score good or not . Normal Score range is 40 to 60. i. Ask user to enter his score.\n",
        "\n",
        "ii. If it is below 40 to 60 range then print that score is low\n",
        "\n",
        "iii. If it is above 60 then print that it is good otherwise print that it is normal"
      ]
    },
    {
      "cell_type": "code",
      "metadata": {
        "colab": {
          "base_uri": "https://localhost:8080/"
        },
        "id": "Cw76plw0rmwg",
        "outputId": "0f3917b7-5f2f-4028-b8bc-4d8ead247d49"
      },
      "source": [
        "\n",
        "score = int(input('Enter your score: '))\n",
        "if score>=60:\n",
        "  print('Score is good')\n",
        "elif score>40 and score<60:\n",
        "  print('Score is normal') \n",
        "else:\n",
        "  print('Score is low')"
      ],
      "execution_count": 4,
      "outputs": [
        {
          "output_type": "stream",
          "text": [
            "Enter your score: 55\n",
            "Score is normal\n"
          ],
          "name": "stdout"
        }
      ]
    },
    {
      "cell_type": "markdown",
      "metadata": {
        "id": "WxNXReAYtkCT"
      },
      "source": [
        "4. After appearing in exam 10 times you got this result,\n",
        "\n",
        "result = [\"Pass\",\"Fail\",\"Fail\",\"Pass\",\"Fail\",\"Pass\",\"Pass\",\"Fail\",\"Fail\",\"Fail\"]\n",
        "\n",
        "Using for loop figure out how many times you got Pass"
      ]
    },
    {
      "cell_type": "code",
      "metadata": {
        "colab": {
          "base_uri": "https://localhost:8080/"
        },
        "id": "w0-PxT8dsCTq",
        "outputId": "28245584-656b-4887-aa5e-0260581ab468"
      },
      "source": [
        "\n",
        "result = ['Pass','Fail','Fail','Pass','Fail','Pass','Pass','Fail','Fail','Fail']\n",
        "count = 0\n",
        "for n in result:\n",
        "  if n=='Pass':\n",
        "    count = count+1\n",
        "print(count)"
      ],
      "execution_count": 6,
      "outputs": [
        {
          "output_type": "stream",
          "text": [
            "4\n"
          ],
          "name": "stdout"
        }
      ]
    },
    {
      "cell_type": "markdown",
      "metadata": {
        "id": "COql1KsdtwPT"
      },
      "source": [
        "Write a program that prints following shape.\n",
        "\n",
        "![image.png](data:image/png;base64,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)\n"
      ]
    },
    {
      "cell_type": "code",
      "metadata": {
        "colab": {
          "base_uri": "https://localhost:8080/"
        },
        "id": "iGwA3Km1tljC",
        "outputId": "0a2584bf-b9ce-4931-95c4-89b5f04d7edb"
      },
      "source": [
        "for i in range(5):\n",
        "  for j in range(i):\n",
        "    print(\"*\",end=\"\")\n",
        "  print()\n",
        "for i in range(5,0,-1):\n",
        "  for j in range(i):\n",
        "    print(\"*\",end=\"\")\n",
        "  print()"
      ],
      "execution_count": 7,
      "outputs": [
        {
          "output_type": "stream",
          "text": [
            "\n",
            "*\n",
            "**\n",
            "***\n",
            "****\n",
            "*****\n",
            "****\n",
            "***\n",
            "**\n",
            "*\n"
          ],
          "name": "stdout"
        }
      ]
    },
    {
      "cell_type": "markdown",
      "metadata": {
        "id": "4FWkT0d6ui3n"
      },
      "source": [
        "6.Lets say you are running a 50 km race. Write a program that,\n",
        "\n",
        "Upon completing each 10 km asks you \"are you tired?\"\n",
        "\n",
        "If you reply \"yes\" then it should break and print \"you didn't finish the race\"\n",
        "\n",
        "If you reply \"no\" then it should continue and ask \"are you tired\" on every km\n",
        "\n",
        "If you finish all 50 km then it should print congratulations message"
      ]
    },
    {
      "cell_type": "code",
      "metadata": {
        "colab": {
          "base_uri": "https://localhost:8080/"
        },
        "id": "N_93zBtTuVLi",
        "outputId": "871ed871-078d-4cac-cff3-dda7379730db"
      },
      "source": [
        "for distance in range (1, 51):\n",
        "  if distance < 50 and distance % 1 == 0:\n",
        "    print(\"are you tired?\")\n",
        "    reply = input(\"Enter Yes or No : \")\n",
        "    if reply.lower () == \"yes\" :\n",
        "      print(\"you didn't finish the race\")\n",
        "      break\n",
        "    elif reply.lower() == \"no\":\n",
        "      continue\n",
        "    else:\n",
        "      print(\"Invalid Input\")\n",
        "  if distance == 50:\n",
        "    print(\"Congratulations !\")"
      ],
      "execution_count": 14,
      "outputs": [
        {
          "output_type": "stream",
          "text": [
            "are you tired?\n",
            "Enter Yes or No : No\n",
            "are you tired?\n",
            "Enter Yes or No : No\n",
            "are you tired?\n",
            "Enter Yes or No : Yes\n",
            "you didn't finish the race\n"
          ],
          "name": "stdout"
        }
      ]
    },
    {
      "cell_type": "markdown",
      "metadata": {
        "id": "Rjpi0ln8vkqF"
      },
      "source": [
        "7. Write a Python program to find those numbers which are divisible by 7 and multiple of 5, between 1500 and 2700 (both included)."
      ]
    },
    {
      "cell_type": "code",
      "metadata": {
        "colab": {
          "base_uri": "https://localhost:8080/"
        },
        "id": "j0Kcwe_tulyI",
        "outputId": "e1c24f38-aae8-4d08-d466-9823c95c7368"
      },
      "source": [
        "\n",
        "\n",
        "for i in range (1500,2701):\n",
        "  if i%5 == 0 and i%7 == 0:\n",
        "    print(i,end = ' ')"
      ],
      "execution_count": 12,
      "outputs": [
        {
          "output_type": "stream",
          "text": [
            "1505 1540 1575 1610 1645 1680 1715 1750 1785 1820 1855 1890 1925 1960 1995 2030 2065 2100 2135 2170 2205 2240 2275 2310 2345 2380 2415 2450 2485 2520 2555 2590 2625 2660 2695 "
          ],
          "name": "stdout"
        }
      ]
    },
    {
      "cell_type": "markdown",
      "metadata": {
        "id": "QiRkI9KhxlWd"
      },
      "source": [
        "8. Print square of all numbers between 10 to 20 except even numbers"
      ]
    },
    {
      "cell_type": "code",
      "metadata": {
        "colab": {
          "base_uri": "https://localhost:8080/"
        },
        "id": "Kx5QCqcSvfku",
        "outputId": "5bd6f551-c268-410a-a831-a24bd4cef171"
      },
      "source": [
        "\n",
        "for i in range(10,21):\n",
        "  if i%2 == 1:\n",
        "    print(i**2, end=' ')"
      ],
      "execution_count": 15,
      "outputs": [
        {
          "output_type": "stream",
          "text": [
            "121 169 225 289 361 "
          ],
          "name": "stdout"
        }
      ]
    },
    {
      "cell_type": "markdown",
      "metadata": {
        "id": "jGmyC0NaxxPR"
      },
      "source": [
        "9. Your Marks for five Test(test1 to test5) looks like this,\n",
        "\n",
        "marks_list = [65, 75, 2100, 95, 83]\n",
        "\n",
        "Write a program that asks you to enter marks and program should tell you in which test that marks occurred. If marks is not found then it should print that as well."
      ]
    },
    {
      "cell_type": "code",
      "metadata": {
        "colab": {
          "base_uri": "https://localhost:8080/"
        },
        "id": "evFMCRTbxsIr",
        "outputId": "ec032a55-ad38-48c9-d39f-d0c2d15aa3b9"
      },
      "source": [
        "marks_list = [65,75,2100,95,83]\n",
        "n = int(input('Enter marks: '))\n",
        "test = marks_list.index(n)+1\n",
        "if n not in marks_list:\n",
        "  print('Marks not found')\n",
        "else:\n",
        "  print('You got',n,'marks in test',test)"
      ],
      "execution_count": 16,
      "outputs": [
        {
          "output_type": "stream",
          "text": [
            "Enter marks: 95\n",
            "You got 95 marks in test 4\n"
          ],
          "name": "stdout"
        }
      ]
    }
  ]
}